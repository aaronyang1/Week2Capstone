{
 "cells": [
  {
   "cell_type": "code",
   "execution_count": null,
   "id": "afe4fc25",
   "metadata": {},
   "outputs": [],
   "source": [
    "import clustering as clus\n",
    "from matplotlib import pyplot as plt\n",
    "import numpy as np\n",
    "\n",
    "photo_names = []\n",
    "\n",
    "people = [3, 4, 5, 6] # ids given to each person in 'people' folder\n",
    "num_photos = [5, 8, 4, 4] # no of photos per person in 'people' folder\n",
    "for i in people:\n",
    "    for j in range(1, num_photos[i - 3]):\n",
    "        photo = \"people/p\" + str(i) + \"_\" + str(j) + \".jpg\"\n",
    "        photo_names.append(photo)\n",
    "\n",
    "print (photo_names)"
   ]
  },
  {
   "cell_type": "code",
   "execution_count": null,
   "id": "afe4fc25",
   "metadata": {},
   "outputs": [],
   "source": [
    "import clustering as clus\n",
    "from matplotlib import pyplot as plt\n",
    "import numpy as np\n",
    "\n",
    "photo_names = []\n",
    "\n",
    "people = [3, 4, 5, 6] # ids given to each person in 'people' folder\n",
    "num_photos = [5, 8, 4, 4] # no of photos per person in 'people' folder\n",
    "for i in people:\n",
    "    for j in range(1, num_photos[i - 3]):\n",
    "        photo = \"people/p\" + str(i) + \"_\" + str(j) + \".jpg\"\n",
    "        photo_names.append(photo)\n",
    "\n",
    "print (photo_names)"
   ]
  },
  {
   "cell_type": "code",
   "execution_count": 1,
   "id": "afe4fc25",
   "metadata": {},
   "outputs": [
    {
     "name": "stdout",
     "output_type": "stream",
     "text": [
      "['people/p3_1.jpg', 'people/p3_2.jpg', 'people/p3_3.jpg', 'people/p3_4.jpg', 'people/p4_1.jpg', 'people/p4_2.jpg', 'people/p4_3.jpg', 'people/p4_4.jpg', 'people/p4_5.jpg', 'people/p4_6.jpg', 'people/p4_7.jpg', 'people/p5_1.jpg', 'people/p5_2.jpg', 'people/p5_3.jpg', 'people/p6_1.jpg', 'people/p6_2.jpg', 'people/p6_3.jpg']\n"
     ]
    }
   ],
   "source": [
    "import clustering as clus\n",
    "from matplotlib import pyplot as plt\n",
    "import numpy as np\n",
    "\n",
    "photo_names = []\n",
    "\n",
    "people = [3, 4, 5, 6] # ids given to each person in 'people' folder\n",
    "num_photos = [5, 8, 4, 4] # no of photos per person in 'people' folder\n",
    "for i in people:\n",
    "    for j in range(1, num_photos[i - 3]):\n",
    "        photo = \"people/p\" + str(i) + \"_\" + str(j) + \".jpg\"\n",
    "        photo_names.append(photo)\n",
    "\n",
    "print (photo_names)"
   ]
  },
  {
   "cell_type": "code",
   "execution_count": 2,
   "id": "1ffc9b41",
   "metadata": {},
   "outputs": [
    {
     "name": "stdout",
     "output_type": "stream",
     "text": [
      "17\n"
     ]
    }
   ],
   "source": [
    "print(len(photo_names))"
   ]
  },
  {
   "cell_type": "code",
   "execution_count": 3,
   "id": "b0a03e81",
   "metadata": {},
   "outputs": [],
   "source": [
    "nodes, adj, dists = clus.create_nodes(photo_names)"
   ]
  },
  {
   "cell_type": "code",
   "execution_count": null,
   "id": "f24dc7a7",
   "metadata": {},
   "outputs": [],
   "source": []
  },
  {
   "cell_type": "code",
   "execution_count": 4,
   "id": "f2fd01ae",
   "metadata": {
    "scrolled": true
   },
   "outputs": [
    {
     "data": {
      "text/plain": [
       "<matplotlib.image.AxesImage at 0x7fafbd0f1d30>"
      ]
     },
     "execution_count": 4,
     "metadata": {},
     "output_type": "execute_result"
    },
    {
     "data": {
      "image/png": "[encoded data removed]",
      "text/plain": [
       "<Figure size 432x288 with 1 Axes>"
      ]
     },
     "metadata": {
      "needs_background": "light"
     },
     "output_type": "display_data"
    }
   ],
   "source": [
    "fig, ax = plt.subplots()\n",
    "ax.imshow(adj)"
   ]
  },
  {
   "cell_type": "code",
   "execution_count": 5,
   "id": "dc4426cb",
   "metadata": {},
   "outputs": [
    {
     "name": "stdout",
     "output_type": "stream",
     "text": [
      "node label0\n",
      "nodes[node2_idx].label0\n",
      "hit\n",
      "nodes[node2_idx].label1\n",
      "nodes[node2_idx].label2\n",
      "nodes[node2_idx].label3\n",
      "nodes[node2_idx].label4\n",
      "nodes[node2_idx].label5\n",
      "nodes[node2_idx].label6\n",
      "nodes[node2_idx].label7\n",
      "nodes[node2_idx].label8\n",
      "nodes[node2_idx].label9\n",
      "nodes[node2_idx].label10\n",
      "nodes[node2_idx].label11\n",
      "nodes[node2_idx].label12\n",
      "nodes[node2_idx].label13\n",
      "nodes[node2_idx].label14\n",
      "nodes[node2_idx].label15\n",
      "node label1\n",
      "nodes[node2_idx].label0\n",
      "nodes[node2_idx].label1\n",
      "hit\n",
      "nodes[node2_idx].label2\n",
      "nodes[node2_idx].label3\n",
      "nodes[node2_idx].label4\n",
      "nodes[node2_idx].label5\n",
      "nodes[node2_idx].label6\n",
      "nodes[node2_idx].label7\n",
      "nodes[node2_idx].label8\n",
      "nodes[node2_idx].label9\n",
      "nodes[node2_idx].label10\n",
      "nodes[node2_idx].label11\n",
      "nodes[node2_idx].label12\n",
      "nodes[node2_idx].label13\n",
      "nodes[node2_idx].label14\n",
      "nodes[node2_idx].label15\n",
      "node label2\n",
      "nodes[node2_idx].label0\n",
      "nodes[node2_idx].label1\n",
      "nodes[node2_idx].label2\n",
      "hit\n",
      "nodes[node2_idx].label3\n",
      "nodes[node2_idx].label4\n",
      "nodes[node2_idx].label5\n",
      "nodes[node2_idx].label6\n",
      "nodes[node2_idx].label7\n",
      "nodes[node2_idx].label8\n",
      "nodes[node2_idx].label9\n",
      "nodes[node2_idx].label10\n",
      "nodes[node2_idx].label11\n",
      "nodes[node2_idx].label12\n",
      "nodes[node2_idx].label13\n",
      "nodes[node2_idx].label14\n",
      "nodes[node2_idx].label15\n",
      "node label3\n",
      "nodes[node2_idx].label0\n",
      "nodes[node2_idx].label1\n",
      "nodes[node2_idx].label2\n",
      "nodes[node2_idx].label3\n",
      "hit\n",
      "nodes[node2_idx].label4\n",
      "nodes[node2_idx].label5\n",
      "nodes[node2_idx].label6\n",
      "nodes[node2_idx].label7\n",
      "nodes[node2_idx].label8\n",
      "nodes[node2_idx].label9\n",
      "nodes[node2_idx].label10\n",
      "nodes[node2_idx].label11\n",
      "nodes[node2_idx].label12\n",
      "nodes[node2_idx].label13\n",
      "nodes[node2_idx].label14\n",
      "nodes[node2_idx].label15\n",
      "node label4\n",
      "nodes[node2_idx].label0\n",
      "nodes[node2_idx].label1\n",
      "nodes[node2_idx].label2\n",
      "nodes[node2_idx].label3\n",
      "nodes[node2_idx].label4\n",
      "hit\n",
      "nodes[node2_idx].label5\n",
      "nodes[node2_idx].label6\n",
      "nodes[node2_idx].label7\n",
      "nodes[node2_idx].label8\n",
      "nodes[node2_idx].label9\n",
      "nodes[node2_idx].label10\n",
      "nodes[node2_idx].label11\n",
      "nodes[node2_idx].label12\n",
      "nodes[node2_idx].label13\n",
      "nodes[node2_idx].label14\n",
      "nodes[node2_idx].label15\n",
      "node label5\n",
      "nodes[node2_idx].label0\n",
      "nodes[node2_idx].label1\n",
      "nodes[node2_idx].label2\n",
      "nodes[node2_idx].label3\n",
      "nodes[node2_idx].label4\n",
      "nodes[node2_idx].label5\n",
      "hit\n",
      "nodes[node2_idx].label6\n",
      "nodes[node2_idx].label7\n",
      "nodes[node2_idx].label8\n",
      "nodes[node2_idx].label9\n",
      "nodes[node2_idx].label10\n",
      "nodes[node2_idx].label11\n",
      "nodes[node2_idx].label12\n",
      "nodes[node2_idx].label13\n",
      "nodes[node2_idx].label14\n",
      "nodes[node2_idx].label15\n",
      "node label6\n",
      "nodes[node2_idx].label0\n",
      "nodes[node2_idx].label1\n",
      "nodes[node2_idx].label2\n",
      "nodes[node2_idx].label3\n",
      "nodes[node2_idx].label4\n",
      "nodes[node2_idx].label5\n",
      "nodes[node2_idx].label6\n",
      "hit\n",
      "nodes[node2_idx].label7\n",
      "nodes[node2_idx].label8\n",
      "nodes[node2_idx].label9\n",
      "nodes[node2_idx].label10\n",
      "nodes[node2_idx].label11\n",
      "nodes[node2_idx].label12\n",
      "nodes[node2_idx].label13\n",
      "nodes[node2_idx].label14\n",
      "nodes[node2_idx].label15\n",
      "node label7\n",
      "nodes[node2_idx].label0\n",
      "nodes[node2_idx].label1\n",
      "nodes[node2_idx].label2\n",
      "nodes[node2_idx].label3\n",
      "nodes[node2_idx].label4\n",
      "nodes[node2_idx].label5\n",
      "nodes[node2_idx].label6\n",
      "nodes[node2_idx].label7\n",
      "hit\n",
      "nodes[node2_idx].label8\n",
      "nodes[node2_idx].label9\n",
      "nodes[node2_idx].label10\n",
      "nodes[node2_idx].label11\n",
      "nodes[node2_idx].label12\n",
      "nodes[node2_idx].label13\n",
      "nodes[node2_idx].label14\n",
      "nodes[node2_idx].label15\n",
      "node label8\n",
      "nodes[node2_idx].label0\n",
      "nodes[node2_idx].label1\n",
      "nodes[node2_idx].label2\n",
      "nodes[node2_idx].label3\n",
      "nodes[node2_idx].label4\n",
      "nodes[node2_idx].label5\n",
      "nodes[node2_idx].label6\n",
      "nodes[node2_idx].label7\n",
      "nodes[node2_idx].label8\n",
      "hit\n",
      "nodes[node2_idx].label9\n",
      "nodes[node2_idx].label10\n",
      "nodes[node2_idx].label11\n",
      "nodes[node2_idx].label12\n",
      "nodes[node2_idx].label13\n",
      "nodes[node2_idx].label14\n",
      "nodes[node2_idx].label15\n",
      "node label9\n",
      "nodes[node2_idx].label0\n",
      "nodes[node2_idx].label1\n",
      "nodes[node2_idx].label2\n",
      "nodes[node2_idx].label3\n",
      "nodes[node2_idx].label4\n",
      "nodes[node2_idx].label5\n",
      "nodes[node2_idx].label6\n",
      "nodes[node2_idx].label7\n",
      "nodes[node2_idx].label8\n",
      "nodes[node2_idx].label9\n",
      "hit\n",
      "nodes[node2_idx].label10\n",
      "nodes[node2_idx].label11\n",
      "nodes[node2_idx].label12\n",
      "nodes[node2_idx].label13\n",
      "nodes[node2_idx].label14\n",
      "nodes[node2_idx].label15\n",
      "node label10\n",
      "nodes[node2_idx].label0\n",
      "nodes[node2_idx].label1\n",
      "nodes[node2_idx].label2\n",
      "nodes[node2_idx].label3\n",
      "nodes[node2_idx].label4\n",
      "nodes[node2_idx].label5\n",
      "nodes[node2_idx].label6\n",
      "nodes[node2_idx].label7\n",
      "nodes[node2_idx].label8\n",
      "nodes[node2_idx].label9\n",
      "nodes[node2_idx].label10\n",
      "hit\n",
      "nodes[node2_idx].label11\n",
      "nodes[node2_idx].label12\n",
      "nodes[node2_idx].label13\n",
      "nodes[node2_idx].label14\n",
      "nodes[node2_idx].label15\n",
      "node label11\n",
      "nodes[node2_idx].label0\n",
      "nodes[node2_idx].label1\n",
      "nodes[node2_idx].label2\n",
      "nodes[node2_idx].label3\n",
      "nodes[node2_idx].label4\n",
      "nodes[node2_idx].label5\n",
      "nodes[node2_idx].label6\n",
      "nodes[node2_idx].label7\n",
      "nodes[node2_idx].label8\n",
      "nodes[node2_idx].label9\n",
      "nodes[node2_idx].label10\n",
      "nodes[node2_idx].label11\n",
      "hit\n",
      "nodes[node2_idx].label12\n",
      "nodes[node2_idx].label13\n",
      "nodes[node2_idx].label14\n",
      "nodes[node2_idx].label15\n",
      "node label12\n",
      "nodes[node2_idx].label0\n",
      "nodes[node2_idx].label1\n",
      "nodes[node2_idx].label2\n",
      "nodes[node2_idx].label3\n",
      "nodes[node2_idx].label4\n",
      "nodes[node2_idx].label5\n",
      "nodes[node2_idx].label6\n",
      "nodes[node2_idx].label7\n",
      "nodes[node2_idx].label8\n",
      "nodes[node2_idx].label9\n",
      "nodes[node2_idx].label10\n",
      "nodes[node2_idx].label11\n",
      "nodes[node2_idx].label12\n",
      "hit\n",
      "nodes[node2_idx].label13\n",
      "nodes[node2_idx].label14\n",
      "nodes[node2_idx].label15\n",
      "node label13\n",
      "nodes[node2_idx].label0\n",
      "nodes[node2_idx].label1\n",
      "nodes[node2_idx].label2\n",
      "nodes[node2_idx].label3\n",
      "nodes[node2_idx].label4\n",
      "nodes[node2_idx].label5\n",
      "nodes[node2_idx].label6\n",
      "nodes[node2_idx].label7\n",
      "nodes[node2_idx].label8\n",
      "nodes[node2_idx].label9\n",
      "nodes[node2_idx].label10\n",
      "nodes[node2_idx].label11\n",
      "nodes[node2_idx].label12\n",
      "nodes[node2_idx].label13\n",
      "hit\n",
      "nodes[node2_idx].label14\n",
      "nodes[node2_idx].label15\n",
      "node label14\n",
      "nodes[node2_idx].label0\n",
      "nodes[node2_idx].label1\n",
      "nodes[node2_idx].label2\n",
      "nodes[node2_idx].label3\n",
      "nodes[node2_idx].label4\n",
      "nodes[node2_idx].label5\n",
      "nodes[node2_idx].label6\n",
      "nodes[node2_idx].label7\n",
      "nodes[node2_idx].label8\n",
      "nodes[node2_idx].label9\n",
      "nodes[node2_idx].label10\n",
      "nodes[node2_idx].label11\n",
      "nodes[node2_idx].label12\n",
      "nodes[node2_idx].label13\n",
      "nodes[node2_idx].label14\n",
      "hit\n",
      "nodes[node2_idx].label15\n",
      "node label15\n",
      "nodes[node2_idx].label0\n",
      "nodes[node2_idx].label1\n",
      "nodes[node2_idx].label2\n",
      "nodes[node2_idx].label3\n",
      "nodes[node2_idx].label4\n",
      "nodes[node2_idx].label5\n",
      "nodes[node2_idx].label6\n",
      "nodes[node2_idx].label7\n",
      "nodes[node2_idx].label8\n",
      "nodes[node2_idx].label9\n",
      "nodes[node2_idx].label10\n",
      "nodes[node2_idx].label11\n",
      "nodes[node2_idx].label12\n",
      "nodes[node2_idx].label13\n",
      "nodes[node2_idx].label14\n",
      "nodes[node2_idx].label15\n",
      "hit\n"
     ]
    }
   ],
   "source": [
    "labels = clus.connected_components(nodes)"
   ]
  },
  {
   "cell_type": "code",
   "execution_count": 6,
   "id": "89fa762f",
   "metadata": {},
   "outputs": [
    {
     "name": "stdout",
     "output_type": "stream",
     "text": [
      "1\n"
     ]
    }
   ],
   "source": [
    "print(nodes[1].label)"
   ]
  },
  {
   "cell_type": "code",
   "execution_count": 7,
   "id": "c4cd3633",
   "metadata": {
    "scrolled": false
   },
   "outputs": [
    {
     "name": "stdout",
     "output_type": "stream",
     "text": [
      "[[0], [1], [2], [3], [4], [5], [6], [7], [8], [9], [10], [11], [12], [13], [14], [15]]\n"
     ]
    }
   ],
   "source": [
    "print(str(labels))"
   ]
  },
  {
   "cell_type": "code",
   "execution_count": 8,
   "id": "88188872",
   "metadata": {},
   "outputs": [
    {
     "name": "stdout",
     "output_type": "stream",
     "text": [
      "(0, 1, 2, 8)\n"
     ]
    }
   ],
   "source": [
    "print(nodes[3].neighbors)"
   ]
  },
  {
   "cell_type": "code",
   "execution_count": 9,
   "id": "60e684a3",
   "metadata": {},
   "outputs": [],
   "source": [
    "clus.whispers(50, nodes, adj)"
   ]
  },
  {
   "cell_type": "code",
   "execution_count": 12,
   "id": "1e3871e5",
   "metadata": {
    "scrolled": false
   },
   "outputs": [
    {
     "data": {
      "text/plain": [
       "(<Figure size 432x288 with 1 Axes>, <AxesSubplot:>)"
      ]
     },
     "execution_count": 12,
     "metadata": {},
     "output_type": "execute_result"
    },
    {
     "data": {
      "image/png": "[encoded data removed]",
      "text/plain": [
       "<Figure size 432x288 with 1 Axes>"
      ]
     },
     "metadata": {},
     "output_type": "display_data"
    }
   ],
   "source": [
    "clus.plot_graph(nodes, adj)"
   ]
  },
  {
   "cell_type": "code",
   "execution_count": 13,
   "id": "597d9bea",
   "metadata": {
    "scrolled": true
   },
   "outputs": [
    {
     "name": "stdout",
     "output_type": "stream",
     "text": [
      "node label1\n",
      "nodes[node2_idx].label1\n",
      "hit\n",
      "nodes[node2_idx].label1\n",
      "hit\n",
      "nodes[node2_idx].label1\n",
      "hit\n",
      "nodes[node2_idx].label1\n",
      "hit\n",
      "nodes[node2_idx].label9\n",
      "nodes[node2_idx].label9\n",
      "nodes[node2_idx].label9\n",
      "nodes[node2_idx].label9\n",
      "nodes[node2_idx].label9\n",
      "nodes[node2_idx].label9\n",
      "nodes[node2_idx].label12\n",
      "nodes[node2_idx].label12\n",
      "nodes[node2_idx].label12\n",
      "nodes[node2_idx].label13\n",
      "nodes[node2_idx].label13\n",
      "nodes[node2_idx].label13\n",
      "node label9\n",
      "nodes[node2_idx].label1\n",
      "nodes[node2_idx].label1\n",
      "nodes[node2_idx].label1\n",
      "nodes[node2_idx].label1\n",
      "nodes[node2_idx].label9\n",
      "hit\n",
      "nodes[node2_idx].label9\n",
      "hit\n",
      "nodes[node2_idx].label9\n",
      "hit\n",
      "nodes[node2_idx].label9\n",
      "hit\n",
      "nodes[node2_idx].label9\n",
      "hit\n",
      "nodes[node2_idx].label9\n",
      "hit\n",
      "nodes[node2_idx].label12\n",
      "nodes[node2_idx].label12\n",
      "nodes[node2_idx].label12\n",
      "nodes[node2_idx].label13\n",
      "nodes[node2_idx].label13\n",
      "nodes[node2_idx].label13\n",
      "node label12\n",
      "nodes[node2_idx].label1\n",
      "nodes[node2_idx].label1\n",
      "nodes[node2_idx].label1\n",
      "nodes[node2_idx].label1\n",
      "nodes[node2_idx].label9\n",
      "nodes[node2_idx].label9\n",
      "nodes[node2_idx].label9\n",
      "nodes[node2_idx].label9\n",
      "nodes[node2_idx].label9\n",
      "nodes[node2_idx].label9\n",
      "nodes[node2_idx].label12\n",
      "hit\n",
      "nodes[node2_idx].label12\n",
      "hit\n",
      "nodes[node2_idx].label12\n",
      "hit\n",
      "nodes[node2_idx].label13\n",
      "nodes[node2_idx].label13\n",
      "nodes[node2_idx].label13\n",
      "node label13\n",
      "nodes[node2_idx].label1\n",
      "nodes[node2_idx].label1\n",
      "nodes[node2_idx].label1\n",
      "nodes[node2_idx].label1\n",
      "nodes[node2_idx].label9\n",
      "nodes[node2_idx].label9\n",
      "nodes[node2_idx].label9\n",
      "nodes[node2_idx].label9\n",
      "nodes[node2_idx].label9\n",
      "nodes[node2_idx].label9\n",
      "nodes[node2_idx].label12\n",
      "nodes[node2_idx].label12\n",
      "nodes[node2_idx].label12\n",
      "nodes[node2_idx].label13\n",
      "hit\n",
      "nodes[node2_idx].label13\n",
      "hit\n",
      "nodes[node2_idx].label13\n",
      "hit\n"
     ]
    }
   ],
   "source": [
    "labels = clus.connected_components(nodes)"
   ]
  },
  {
   "cell_type": "code",
   "execution_count": 14,
   "id": "1019b4ee",
   "metadata": {},
   "outputs": [
    {
     "name": "stdout",
     "output_type": "stream",
     "text": [
      "[[0, 1, 2, 3], [4, 5, 6, 7, 8, 9], [10, 11, 12], [13, 14, 15]]\n"
     ]
    }
   ],
   "source": [
    "print(str(labels))"
   ]
  }
 ],
 "metadata": {
  "kernelspec": {
   "display_name": "Python 3 (ipykernel)",
   "language": "python",
   "name": "python3"
  },
  "language_info": {
   "codemirror_mode": {
    "name": "ipython",
    "version": 3
   },
   "file_extension": ".py",
   "mimetype": "text/x-python",
   "name": "python",
   "nbconvert_exporter": "python",
   "pygments_lexer": "ipython3",
   "version": "3.8.13"
  }
 },
 "nbformat": 4,
 "nbformat_minor": 5
}
