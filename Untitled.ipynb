{
 "cells": [
  {
   "cell_type": "code",
   "execution_count": 3,
   "id": "b0a03e81",
   "metadata": {},
   "outputs": [],
   "source": [
    "nodes, adj, dists = clus.create_nodes(photo_names)"
   ]
  },
  {
   "cell_type": "code",
   "execution_count": 5,
   "id": "dc4426cb",
   "metadata": {},
   "outputs": [],
   "source": [
    "labels = clus.connected_components(nodes)"
   ]
  }
 ],
 "metadata": {
  "kernelspec": {
   "display_name": "Python 3 (ipykernel)",
   "language": "python",
   "name": "python3"
  },
  "language_info": {
   "codemirror_mode": {
    "name": "ipython",
    "version": 3
   },
   "file_extension": ".py",
   "mimetype": "text/x-python",
   "name": "python",
   "nbconvert_exporter": "python",
   "pygments_lexer": "ipython3",
   "version": "3.8.13"
  }
 },
 "nbformat": 4,
 "nbformat_minor": 5
}
